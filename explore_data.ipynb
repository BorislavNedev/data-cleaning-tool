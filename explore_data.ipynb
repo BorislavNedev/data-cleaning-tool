{
 "cells": [
  {
   "cell_type": "code",
   "execution_count": 1,
   "id": "1a9605b5-0359-4240-a37f-feefcba42c3f",
   "metadata": {},
   "outputs": [],
   "source": [
    "# Import pandas library for data handling\n",
    "import pandas as pd"
   ]
  },
  {
   "cell_type": "code",
   "execution_count": 2,
   "id": "991ef5e7-4045-4943-ad54-26af58a2989e",
   "metadata": {},
   "outputs": [],
   "source": [
    "# Load the dataset from the 'data' directory\n",
    "file_path = 'data/raw_tours.csv'  # Make sure your file is named and saved here\n",
    "df = pd.read_csv(file_path)"
   ]
  },
  {
   "cell_type": "code",
   "execution_count": 3,
   "id": "4fc5a9f5-eb63-44e7-96fb-c6f6982bd10b",
   "metadata": {},
   "outputs": [
    {
     "name": "stdout",
     "output_type": "stream",
     "text": [
      "🔍 Preview of the dataset:\n",
      "   Rank  Peak All Time Peak  Actual gross Actual gross(in 2022 dollars)  \\\n",
      "0     1     1             2  $780,000,000                  $780,000,000   \n",
      "1     2     1          7[2]  $579,800,000                  $579,800,000   \n",
      "2     3  1[4]          2[5]  $411,000,000                  $560,622,615   \n",
      "3     4  2[7]         10[7]  $397,300,000                  $454,751,555   \n",
      "4     5  2[4]           NaN  $345,675,146                  $402,844,849   \n",
      "\n",
      "         Artist                   Tour title    Year(s)  Shows Average gross  \\\n",
      "0  Taylor Swift              The Eras Tour †  2023–2024     56   $13,928,571   \n",
      "1       Beyoncé       Renaissance World Tour       2023     56   $10,353,571   \n",
      "2       Madonna  Sticky & Sweet Tour ‡[4][a]  2008–2009     85    $4,835,294   \n",
      "3          Pink  Beautiful Trauma World Tour  2018–2019    156    $2,546,795   \n",
      "4  Taylor Swift      Reputation Stadium Tour       2018     53    $6,522,173   \n",
      "\n",
      "  Ref.  \n",
      "0  [1]  \n",
      "1  [3]  \n",
      "2  [6]  \n",
      "3  [7]  \n",
      "4  [8]  \n"
     ]
    }
   ],
   "source": [
    "# ---------------------------------------\n",
    "# 1. View the first 5 rows of the dataset\n",
    "# ---------------------------------------\n",
    "print(\"🔍 Preview of the dataset:\")\n",
    "print(df.head())  # Gives you a snapshot of the first few rows"
   ]
  },
  {
   "cell_type": "code",
   "execution_count": 4,
   "id": "b8ed47f1-18b6-4ae2-9383-049480c5c266",
   "metadata": {},
   "outputs": [
    {
     "name": "stdout",
     "output_type": "stream",
     "text": [
      "\n",
      "📄 DataFrame summary (types, non-null counts):\n",
      "<class 'pandas.core.frame.DataFrame'>\n",
      "RangeIndex: 20 entries, 0 to 19\n",
      "Data columns (total 11 columns):\n",
      " #   Column                         Non-Null Count  Dtype \n",
      "---  ------                         --------------  ----- \n",
      " 0   Rank                           20 non-null     int64 \n",
      " 1   Peak                           9 non-null      object\n",
      " 2   All Time Peak                  6 non-null      object\n",
      " 3   Actual gross                   20 non-null     object\n",
      " 4   Actual gross(in 2022 dollars)  20 non-null     object\n",
      " 5   Artist                         20 non-null     object\n",
      " 6   Tour title                     20 non-null     object\n",
      " 7   Year(s)                        20 non-null     object\n",
      " 8   Shows                          20 non-null     int64 \n",
      " 9   Average gross                  20 non-null     object\n",
      " 10  Ref.                           20 non-null     object\n",
      "dtypes: int64(2), object(9)\n",
      "memory usage: 1.8+ KB\n",
      "None\n"
     ]
    }
   ],
   "source": [
    "# ----------------------------------------------------------\n",
    "# 2. Check the structure of the DataFrame (column names, types)\n",
    "# ----------------------------------------------------------\n",
    "print(\"\\n📄 DataFrame summary (types, non-null counts):\")\n",
    "print(df.info())  # Useful for spotting columns with missing values"
   ]
  },
  {
   "cell_type": "code",
   "execution_count": 5,
   "id": "49f1fb02-725e-47f4-b101-7e9f472fdc47",
   "metadata": {},
   "outputs": [
    {
     "name": "stdout",
     "output_type": "stream",
     "text": [
      "\n",
      "❗ Missing values per column:\n",
      "Rank                              0\n",
      "Peak                             11\n",
      "All Time Peak                    14\n",
      "Actual gross                      0\n",
      "Actual gross(in 2022 dollars)     0\n",
      "Artist                            0\n",
      "Tour title                        0\n",
      "Year(s)                           0\n",
      "Shows                             0\n",
      "Average gross                     0\n",
      "Ref.                              0\n",
      "dtype: int64\n"
     ]
    }
   ],
   "source": [
    "# -----------------------------------------\n",
    "# 3. Check for missing (null) values in each column\n",
    "# -----------------------------------------\n",
    "print(\"\\n❗ Missing values per column:\")\n",
    "print(df.isnull().sum())  # Shows how many nulls are in each column"
   ]
  },
  {
   "cell_type": "code",
   "execution_count": 6,
   "id": "83981ecd-bcbc-45a5-b2bc-475bb79e1810",
   "metadata": {},
   "outputs": [
    {
     "name": "stdout",
     "output_type": "stream",
     "text": [
      "\n",
      "🔁 Number of duplicated rows:\n",
      "0\n"
     ]
    }
   ],
   "source": [
    "# -----------------------------------------\n",
    "# 4. Check for duplicated rows\n",
    "# -----------------------------------------\n",
    "print(\"\\n🔁 Number of duplicated rows:\")\n",
    "print(df.duplicated().sum())"
   ]
  },
  {
   "cell_type": "code",
   "execution_count": 7,
   "id": "ac7d8add-b387-4832-8dce-fafdeb947012",
   "metadata": {},
   "outputs": [
    {
     "name": "stdout",
     "output_type": "stream",
     "text": [
      "\n",
      "📊 Descriptive statistics (numerical columns):\n",
      "            Rank       Shows\n",
      "count  20.000000   20.000000\n",
      "mean   10.450000  110.000000\n",
      "std     5.942488   66.507617\n",
      "min     1.000000   41.000000\n",
      "25%     5.750000   59.000000\n",
      "50%    10.500000   87.000000\n",
      "75%    15.250000  134.500000\n",
      "max    20.000000  325.000000\n",
      "\n",
      "📝 Descriptive stats (object/categorical columns):\n",
      "       Peak All Time Peak  Actual gross Actual gross(in 2022 dollars)  \\\n",
      "count     9             6            20                            20   \n",
      "unique    7             6            20                            20   \n",
      "top       1             2  $780,000,000                  $780,000,000   \n",
      "freq      2             1             1                             1   \n",
      "\n",
      "              Artist       Tour title    Year(s) Average gross Ref.  \n",
      "count             20               20         20            20   20  \n",
      "unique             9               20         16            20   20  \n",
      "top     Taylor Swift  The Eras Tour †  2013–2014   $13,928,571  [1]  \n",
      "freq               4                1          3             1    1  \n"
     ]
    }
   ],
   "source": [
    "# -----------------------------------------\n",
    "# 5. Summary of numeric and object (text) columns\n",
    "# -----------------------------------------\n",
    "print(\"\\n📊 Descriptive statistics (numerical columns):\")\n",
    "print(df.describe())  # Stats like mean, min, max for numeric data\n",
    "\n",
    "print(\"\\n📝 Descriptive stats (object/categorical columns):\")\n",
    "print(df.describe(include=['object']))  # Text column stats (like unique counts)"
   ]
  },
  {
   "cell_type": "code",
   "execution_count": 8,
   "id": "bb8731dc-983e-4ebe-832b-d02e98915f10",
   "metadata": {},
   "outputs": [
    {
     "name": "stdout",
     "output_type": "stream",
     "text": [
      "\n",
      "🧾 Column names:\n",
      "['Rank', 'Peak', 'All Time Peak', 'Actual gross', 'Actual gross(in 2022 dollars)', 'Artist', 'Tour title', 'Year(s)', 'Shows', 'Average gross', 'Ref.']\n"
     ]
    }
   ],
   "source": [
    "# -----------------------------------------\n",
    "# 6. Display all column names for reference\n",
    "# -----------------------------------------\n",
    "print(\"\\n🧾 Column names:\")\n",
    "print(df.columns.tolist())"
   ]
  }
 ],
 "metadata": {
  "kernelspec": {
   "display_name": "Python 3 (ipykernel)",
   "language": "python",
   "name": "python3"
  },
  "language_info": {
   "codemirror_mode": {
    "name": "ipython",
    "version": 3
   },
   "file_extension": ".py",
   "mimetype": "text/x-python",
   "name": "python",
   "nbconvert_exporter": "python",
   "pygments_lexer": "ipython3",
   "version": "3.12.3"
  }
 },
 "nbformat": 4,
 "nbformat_minor": 5
}
