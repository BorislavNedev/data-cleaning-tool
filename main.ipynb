{
 "cells": [
  {
   "cell_type": "code",
   "execution_count": 1,
   "id": "adec41df-4b06-4e47-8400-9d47c4c08ade",
   "metadata": {},
   "outputs": [],
   "source": [
    "# =====================================================\n",
    "# 1. Imports & Setup\n",
    "# =====================================================\n",
    "import pandas as pd\n",
    "import re\n",
    "import os"
   ]
  },
  {
   "cell_type": "code",
   "execution_count": null,
   "id": "9152e363-4327-49b1-ac5f-edeaf76b13a7",
   "metadata": {},
   "outputs": [],
   "source": []
  },
  {
   "cell_type": "code",
   "execution_count": 2,
   "id": "c07f9fba-dc76-4112-93d1-82fd4b8f29a2",
   "metadata": {},
   "outputs": [
    {
     "name": "stdout",
     "output_type": "stream",
     "text": [
      "📂 Loading raw dataset...\n",
      "✅ Loaded 20 rows and 11 columns\n"
     ]
    }
   ],
   "source": [
    "# =====================================================\n",
    "# 2. Load Raw Dataset\n",
    "# =====================================================\n",
    "print(\"📂 Loading raw dataset...\")\n",
    "df = pd.read_csv(\"data/raw_tours.csv\")\n",
    "print(f\"✅ Loaded {df.shape[0]} rows and {df.shape[1]} columns\")"
   ]
  },
  {
   "cell_type": "code",
   "execution_count": null,
   "id": "0bc49808-e740-45ce-8b88-f62cd7219cf9",
   "metadata": {},
   "outputs": [],
   "source": []
  },
  {
   "cell_type": "code",
   "execution_count": 3,
   "id": "24da03e8-c4f5-44ab-864a-2f616f132997",
   "metadata": {},
   "outputs": [],
   "source": [
    "# =====================================================\n",
    "# 3. Initial Exploration\n",
    "# ====================================================="
   ]
  },
  {
   "cell_type": "code",
   "execution_count": 4,
   "id": "c672d626-0c2c-4b23-a217-14e1bc3248a7",
   "metadata": {},
   "outputs": [
    {
     "data": {
      "text/html": [
       "<div>\n",
       "<style scoped>\n",
       "    .dataframe tbody tr th:only-of-type {\n",
       "        vertical-align: middle;\n",
       "    }\n",
       "\n",
       "    .dataframe tbody tr th {\n",
       "        vertical-align: top;\n",
       "    }\n",
       "\n",
       "    .dataframe thead th {\n",
       "        text-align: right;\n",
       "    }\n",
       "</style>\n",
       "<table border=\"1\" class=\"dataframe\">\n",
       "  <thead>\n",
       "    <tr style=\"text-align: right;\">\n",
       "      <th></th>\n",
       "      <th>Rank</th>\n",
       "      <th>Peak</th>\n",
       "      <th>All Time Peak</th>\n",
       "      <th>Actual gross</th>\n",
       "      <th>Actual gross(in 2022 dollars)</th>\n",
       "      <th>Artist</th>\n",
       "      <th>Tour title</th>\n",
       "      <th>Year(s)</th>\n",
       "      <th>Shows</th>\n",
       "      <th>Average gross</th>\n",
       "      <th>Ref.</th>\n",
       "    </tr>\n",
       "  </thead>\n",
       "  <tbody>\n",
       "    <tr>\n",
       "      <th>0</th>\n",
       "      <td>1</td>\n",
       "      <td>1</td>\n",
       "      <td>2</td>\n",
       "      <td>$780,000,000</td>\n",
       "      <td>$780,000,000</td>\n",
       "      <td>Taylor Swift</td>\n",
       "      <td>The Eras Tour †</td>\n",
       "      <td>2023–2024</td>\n",
       "      <td>56</td>\n",
       "      <td>$13,928,571</td>\n",
       "      <td>[1]</td>\n",
       "    </tr>\n",
       "    <tr>\n",
       "      <th>1</th>\n",
       "      <td>2</td>\n",
       "      <td>1</td>\n",
       "      <td>7[2]</td>\n",
       "      <td>$579,800,000</td>\n",
       "      <td>$579,800,000</td>\n",
       "      <td>Beyoncé</td>\n",
       "      <td>Renaissance World Tour</td>\n",
       "      <td>2023</td>\n",
       "      <td>56</td>\n",
       "      <td>$10,353,571</td>\n",
       "      <td>[3]</td>\n",
       "    </tr>\n",
       "    <tr>\n",
       "      <th>2</th>\n",
       "      <td>3</td>\n",
       "      <td>1[4]</td>\n",
       "      <td>2[5]</td>\n",
       "      <td>$411,000,000</td>\n",
       "      <td>$560,622,615</td>\n",
       "      <td>Madonna</td>\n",
       "      <td>Sticky &amp; Sweet Tour ‡[4][a]</td>\n",
       "      <td>2008–2009</td>\n",
       "      <td>85</td>\n",
       "      <td>$4,835,294</td>\n",
       "      <td>[6]</td>\n",
       "    </tr>\n",
       "    <tr>\n",
       "      <th>3</th>\n",
       "      <td>4</td>\n",
       "      <td>2[7]</td>\n",
       "      <td>10[7]</td>\n",
       "      <td>$397,300,000</td>\n",
       "      <td>$454,751,555</td>\n",
       "      <td>Pink</td>\n",
       "      <td>Beautiful Trauma World Tour</td>\n",
       "      <td>2018–2019</td>\n",
       "      <td>156</td>\n",
       "      <td>$2,546,795</td>\n",
       "      <td>[7]</td>\n",
       "    </tr>\n",
       "    <tr>\n",
       "      <th>4</th>\n",
       "      <td>5</td>\n",
       "      <td>2[4]</td>\n",
       "      <td>NaN</td>\n",
       "      <td>$345,675,146</td>\n",
       "      <td>$402,844,849</td>\n",
       "      <td>Taylor Swift</td>\n",
       "      <td>Reputation Stadium Tour</td>\n",
       "      <td>2018</td>\n",
       "      <td>53</td>\n",
       "      <td>$6,522,173</td>\n",
       "      <td>[8]</td>\n",
       "    </tr>\n",
       "  </tbody>\n",
       "</table>\n",
       "</div>"
      ],
      "text/plain": [
       "   Rank  Peak All Time Peak  Actual gross Actual gross(in 2022 dollars)  \\\n",
       "0     1     1             2  $780,000,000                  $780,000,000   \n",
       "1     2     1          7[2]  $579,800,000                  $579,800,000   \n",
       "2     3  1[4]          2[5]  $411,000,000                  $560,622,615   \n",
       "3     4  2[7]         10[7]  $397,300,000                  $454,751,555   \n",
       "4     5  2[4]           NaN  $345,675,146                  $402,844,849   \n",
       "\n",
       "         Artist                   Tour title    Year(s)  Shows Average gross  \\\n",
       "0  Taylor Swift              The Eras Tour †  2023–2024     56   $13,928,571   \n",
       "1       Beyoncé       Renaissance World Tour       2023     56   $10,353,571   \n",
       "2       Madonna  Sticky & Sweet Tour ‡[4][a]  2008–2009     85    $4,835,294   \n",
       "3          Pink  Beautiful Trauma World Tour  2018–2019    156    $2,546,795   \n",
       "4  Taylor Swift      Reputation Stadium Tour       2018     53    $6,522,173   \n",
       "\n",
       "  Ref.  \n",
       "0  [1]  \n",
       "1  [3]  \n",
       "2  [6]  \n",
       "3  [7]  \n",
       "4  [8]  "
      ]
     },
     "execution_count": 4,
     "metadata": {},
     "output_type": "execute_result"
    }
   ],
   "source": [
    "# ---------------------------------------\n",
    "# View first 5 rows\n",
    "# ---------------------------------------\n",
    "df.head()"
   ]
  },
  {
   "cell_type": "code",
   "execution_count": 5,
   "id": "9f2fbd30-87f2-4b61-b81e-8084b580d44f",
   "metadata": {},
   "outputs": [
    {
     "name": "stdout",
     "output_type": "stream",
     "text": [
      "<class 'pandas.core.frame.DataFrame'>\n",
      "RangeIndex: 20 entries, 0 to 19\n",
      "Data columns (total 11 columns):\n",
      " #   Column                         Non-Null Count  Dtype \n",
      "---  ------                         --------------  ----- \n",
      " 0   Rank                           20 non-null     int64 \n",
      " 1   Peak                           9 non-null      object\n",
      " 2   All Time Peak                  6 non-null      object\n",
      " 3   Actual gross                   20 non-null     object\n",
      " 4   Actual gross(in 2022 dollars)  20 non-null     object\n",
      " 5   Artist                         20 non-null     object\n",
      " 6   Tour title                     20 non-null     object\n",
      " 7   Year(s)                        20 non-null     object\n",
      " 8   Shows                          20 non-null     int64 \n",
      " 9   Average gross                  20 non-null     object\n",
      " 10  Ref.                           20 non-null     object\n",
      "dtypes: int64(2), object(9)\n",
      "memory usage: 1.8+ KB\n"
     ]
    }
   ],
   "source": [
    "# ---------------------------------------\n",
    "# Get basic info\n",
    "# ---------------------------------------\n",
    "df.info()"
   ]
  },
  {
   "cell_type": "code",
   "execution_count": 6,
   "id": "8a9a773e-6000-412d-890d-dee1bd134ac1",
   "metadata": {},
   "outputs": [
    {
     "data": {
      "text/plain": [
       "Rank                              0\n",
       "Peak                             11\n",
       "All Time Peak                    14\n",
       "Actual gross                      0\n",
       "Actual gross(in 2022 dollars)     0\n",
       "Artist                            0\n",
       "Tour title                        0\n",
       "Year(s)                           0\n",
       "Shows                             0\n",
       "Average gross                     0\n",
       "Ref.                              0\n",
       "dtype: int64"
      ]
     },
     "execution_count": 6,
     "metadata": {},
     "output_type": "execute_result"
    }
   ],
   "source": [
    "# ---------------------------------------\n",
    "# View missing values\n",
    "# ---------------------------------------\n",
    "df.isnull().sum()"
   ]
  },
  {
   "cell_type": "code",
   "execution_count": 7,
   "id": "8ed88a7e-f279-4dda-94ae-0fb26485dafa",
   "metadata": {},
   "outputs": [
    {
     "data": {
      "text/html": [
       "<div>\n",
       "<style scoped>\n",
       "    .dataframe tbody tr th:only-of-type {\n",
       "        vertical-align: middle;\n",
       "    }\n",
       "\n",
       "    .dataframe tbody tr th {\n",
       "        vertical-align: top;\n",
       "    }\n",
       "\n",
       "    .dataframe thead th {\n",
       "        text-align: right;\n",
       "    }\n",
       "</style>\n",
       "<table border=\"1\" class=\"dataframe\">\n",
       "  <thead>\n",
       "    <tr style=\"text-align: right;\">\n",
       "      <th></th>\n",
       "      <th>Rank</th>\n",
       "      <th>Peak</th>\n",
       "      <th>All Time Peak</th>\n",
       "      <th>Actual gross</th>\n",
       "      <th>Actual gross(in 2022 dollars)</th>\n",
       "      <th>Artist</th>\n",
       "      <th>Tour title</th>\n",
       "      <th>Year(s)</th>\n",
       "      <th>Shows</th>\n",
       "      <th>Average gross</th>\n",
       "      <th>Ref.</th>\n",
       "    </tr>\n",
       "  </thead>\n",
       "  <tbody>\n",
       "    <tr>\n",
       "      <th>count</th>\n",
       "      <td>20.000000</td>\n",
       "      <td>9</td>\n",
       "      <td>6</td>\n",
       "      <td>20</td>\n",
       "      <td>20</td>\n",
       "      <td>20</td>\n",
       "      <td>20</td>\n",
       "      <td>20</td>\n",
       "      <td>20.000000</td>\n",
       "      <td>20</td>\n",
       "      <td>20</td>\n",
       "    </tr>\n",
       "    <tr>\n",
       "      <th>unique</th>\n",
       "      <td>NaN</td>\n",
       "      <td>7</td>\n",
       "      <td>6</td>\n",
       "      <td>20</td>\n",
       "      <td>20</td>\n",
       "      <td>9</td>\n",
       "      <td>20</td>\n",
       "      <td>16</td>\n",
       "      <td>NaN</td>\n",
       "      <td>20</td>\n",
       "      <td>20</td>\n",
       "    </tr>\n",
       "    <tr>\n",
       "      <th>top</th>\n",
       "      <td>NaN</td>\n",
       "      <td>1</td>\n",
       "      <td>2</td>\n",
       "      <td>$780,000,000</td>\n",
       "      <td>$780,000,000</td>\n",
       "      <td>Taylor Swift</td>\n",
       "      <td>The Eras Tour †</td>\n",
       "      <td>2013–2014</td>\n",
       "      <td>NaN</td>\n",
       "      <td>$13,928,571</td>\n",
       "      <td>[1]</td>\n",
       "    </tr>\n",
       "    <tr>\n",
       "      <th>freq</th>\n",
       "      <td>NaN</td>\n",
       "      <td>2</td>\n",
       "      <td>1</td>\n",
       "      <td>1</td>\n",
       "      <td>1</td>\n",
       "      <td>4</td>\n",
       "      <td>1</td>\n",
       "      <td>3</td>\n",
       "      <td>NaN</td>\n",
       "      <td>1</td>\n",
       "      <td>1</td>\n",
       "    </tr>\n",
       "    <tr>\n",
       "      <th>mean</th>\n",
       "      <td>10.450000</td>\n",
       "      <td>NaN</td>\n",
       "      <td>NaN</td>\n",
       "      <td>NaN</td>\n",
       "      <td>NaN</td>\n",
       "      <td>NaN</td>\n",
       "      <td>NaN</td>\n",
       "      <td>NaN</td>\n",
       "      <td>110.000000</td>\n",
       "      <td>NaN</td>\n",
       "      <td>NaN</td>\n",
       "    </tr>\n",
       "    <tr>\n",
       "      <th>std</th>\n",
       "      <td>5.942488</td>\n",
       "      <td>NaN</td>\n",
       "      <td>NaN</td>\n",
       "      <td>NaN</td>\n",
       "      <td>NaN</td>\n",
       "      <td>NaN</td>\n",
       "      <td>NaN</td>\n",
       "      <td>NaN</td>\n",
       "      <td>66.507617</td>\n",
       "      <td>NaN</td>\n",
       "      <td>NaN</td>\n",
       "    </tr>\n",
       "    <tr>\n",
       "      <th>min</th>\n",
       "      <td>1.000000</td>\n",
       "      <td>NaN</td>\n",
       "      <td>NaN</td>\n",
       "      <td>NaN</td>\n",
       "      <td>NaN</td>\n",
       "      <td>NaN</td>\n",
       "      <td>NaN</td>\n",
       "      <td>NaN</td>\n",
       "      <td>41.000000</td>\n",
       "      <td>NaN</td>\n",
       "      <td>NaN</td>\n",
       "    </tr>\n",
       "    <tr>\n",
       "      <th>25%</th>\n",
       "      <td>5.750000</td>\n",
       "      <td>NaN</td>\n",
       "      <td>NaN</td>\n",
       "      <td>NaN</td>\n",
       "      <td>NaN</td>\n",
       "      <td>NaN</td>\n",
       "      <td>NaN</td>\n",
       "      <td>NaN</td>\n",
       "      <td>59.000000</td>\n",
       "      <td>NaN</td>\n",
       "      <td>NaN</td>\n",
       "    </tr>\n",
       "    <tr>\n",
       "      <th>50%</th>\n",
       "      <td>10.500000</td>\n",
       "      <td>NaN</td>\n",
       "      <td>NaN</td>\n",
       "      <td>NaN</td>\n",
       "      <td>NaN</td>\n",
       "      <td>NaN</td>\n",
       "      <td>NaN</td>\n",
       "      <td>NaN</td>\n",
       "      <td>87.000000</td>\n",
       "      <td>NaN</td>\n",
       "      <td>NaN</td>\n",
       "    </tr>\n",
       "    <tr>\n",
       "      <th>75%</th>\n",
       "      <td>15.250000</td>\n",
       "      <td>NaN</td>\n",
       "      <td>NaN</td>\n",
       "      <td>NaN</td>\n",
       "      <td>NaN</td>\n",
       "      <td>NaN</td>\n",
       "      <td>NaN</td>\n",
       "      <td>NaN</td>\n",
       "      <td>134.500000</td>\n",
       "      <td>NaN</td>\n",
       "      <td>NaN</td>\n",
       "    </tr>\n",
       "    <tr>\n",
       "      <th>max</th>\n",
       "      <td>20.000000</td>\n",
       "      <td>NaN</td>\n",
       "      <td>NaN</td>\n",
       "      <td>NaN</td>\n",
       "      <td>NaN</td>\n",
       "      <td>NaN</td>\n",
       "      <td>NaN</td>\n",
       "      <td>NaN</td>\n",
       "      <td>325.000000</td>\n",
       "      <td>NaN</td>\n",
       "      <td>NaN</td>\n",
       "    </tr>\n",
       "  </tbody>\n",
       "</table>\n",
       "</div>"
      ],
      "text/plain": [
       "             Rank Peak All Time Peak  Actual gross  \\\n",
       "count   20.000000    9             6            20   \n",
       "unique        NaN    7             6            20   \n",
       "top           NaN    1             2  $780,000,000   \n",
       "freq          NaN    2             1             1   \n",
       "mean    10.450000  NaN           NaN           NaN   \n",
       "std      5.942488  NaN           NaN           NaN   \n",
       "min      1.000000  NaN           NaN           NaN   \n",
       "25%      5.750000  NaN           NaN           NaN   \n",
       "50%     10.500000  NaN           NaN           NaN   \n",
       "75%     15.250000  NaN           NaN           NaN   \n",
       "max     20.000000  NaN           NaN           NaN   \n",
       "\n",
       "       Actual gross(in 2022 dollars)        Artist       Tour title  \\\n",
       "count                             20            20               20   \n",
       "unique                            20             9               20   \n",
       "top                     $780,000,000  Taylor Swift  The Eras Tour †   \n",
       "freq                               1             4                1   \n",
       "mean                             NaN           NaN              NaN   \n",
       "std                              NaN           NaN              NaN   \n",
       "min                              NaN           NaN              NaN   \n",
       "25%                              NaN           NaN              NaN   \n",
       "50%                              NaN           NaN              NaN   \n",
       "75%                              NaN           NaN              NaN   \n",
       "max                              NaN           NaN              NaN   \n",
       "\n",
       "          Year(s)       Shows Average gross Ref.  \n",
       "count          20   20.000000            20   20  \n",
       "unique         16         NaN            20   20  \n",
       "top     2013–2014         NaN   $13,928,571  [1]  \n",
       "freq            3         NaN             1    1  \n",
       "mean          NaN  110.000000           NaN  NaN  \n",
       "std           NaN   66.507617           NaN  NaN  \n",
       "min           NaN   41.000000           NaN  NaN  \n",
       "25%           NaN   59.000000           NaN  NaN  \n",
       "50%           NaN   87.000000           NaN  NaN  \n",
       "75%           NaN  134.500000           NaN  NaN  \n",
       "max           NaN  325.000000           NaN  NaN  "
      ]
     },
     "execution_count": 7,
     "metadata": {},
     "output_type": "execute_result"
    }
   ],
   "source": [
    "# ---------------------------------------\n",
    "# Summary statistics\n",
    "# ---------------------------------------\n",
    "df.describe(include='all')"
   ]
  },
  {
   "cell_type": "code",
   "execution_count": null,
   "id": "06600942-08b9-4bb0-ba7c-adbf69ba2fde",
   "metadata": {},
   "outputs": [],
   "source": []
  },
  {
   "cell_type": "code",
   "execution_count": 8,
   "id": "3c21c57f-310f-4576-9bbd-b0a503c19a7e",
   "metadata": {},
   "outputs": [],
   "source": [
    "# =====================================================\n",
    "# 4. Cleaning Functions\n",
    "# ====================================================="
   ]
  },
  {
   "cell_type": "code",
   "execution_count": 9,
   "id": "169b66c4-2d70-45c3-ad2a-3bc98c822683",
   "metadata": {},
   "outputs": [],
   "source": [
    "# ---------------------------------------\n",
    "# Clean currency columns\n",
    "# ---------------------------------------\n",
    "def clean_currency_column(df, column_name):\n",
    "    df[column_name] = (\n",
    "        df[column_name]\n",
    "        .astype(str)\n",
    "        .str.replace(r'[\\$,]', '', regex=True)           # Remove $ and commas\n",
    "        .str.replace(r'\\[.*?\\]', '', regex=True)         # Remove footnote brackets like [b], [a], etc.\n",
    "        .str.strip()\n",
    "    )\n",
    "\n",
    "    # Replace empty strings with 0, then convert to float\n",
    "    df[column_name] = df[column_name].replace('', '0').astype(float)\n",
    "\n",
    "    return df"
   ]
  },
  {
   "cell_type": "code",
   "execution_count": 10,
   "id": "0d0e85a9-65ca-41eb-9412-f8a3910878c9",
   "metadata": {},
   "outputs": [],
   "source": [
    "# ---------------------------------------\n",
    "# Clean text columns (remove symbols/footnotes)\n",
    "# ---------------------------------------\n",
    "def clean_text_column(df, column_name):\n",
    "    df[column_name] = (\n",
    "        df[column_name]\n",
    "        .astype(str)\n",
    "        .apply(lambda x: re.sub(r'\\[.*?\\]|†|‡', '', x).strip())\n",
    "    )\n",
    "    return df"
   ]
  },
  {
   "cell_type": "code",
   "execution_count": 11,
   "id": "3b565c82-90ea-48cc-9851-4140f6a4237d",
   "metadata": {},
   "outputs": [],
   "source": [
    "# ---------------------------------------\n",
    "# Split year ranges\n",
    "# ---------------------------------------\n",
    "def split_year_range(df):\n",
    "    df[['Start Year', 'End Year']] = df['Year(s)'].str.extract(r'(\\d{4})[–-](\\d{4})')\n",
    "    df['Start Year'] = df['Start Year'].astype(float)\n",
    "    df['End Year'] = df['End Year'].astype(float)\n",
    "    return df"
   ]
  },
  {
   "cell_type": "code",
   "execution_count": 12,
   "id": "6f33d823-c2b8-4bb5-9f63-fc8de8d9bbc9",
   "metadata": {},
   "outputs": [],
   "source": [
    "# ---------------------------------------\n",
    "# Fill missing peak values\n",
    "# ---------------------------------------\n",
    "def fill_missing_peaks(df, column_name, fill_value='Unknown'):\n",
    "    df[column_name] = df[column_name].fillna(fill_value)\n",
    "    return df"
   ]
  },
  {
   "cell_type": "code",
   "execution_count": null,
   "id": "8ce8ad35-95db-4f4f-bfeb-8d71ea90687a",
   "metadata": {},
   "outputs": [],
   "source": []
  },
  {
   "cell_type": "code",
   "execution_count": 13,
   "id": "6f298e0d-11b7-4651-a77a-8e7c49324250",
   "metadata": {},
   "outputs": [],
   "source": [
    "# =====================================================\n",
    "# 5. Apply Cleaning\n",
    "# ====================================================="
   ]
  },
  {
   "cell_type": "code",
   "execution_count": 14,
   "id": "76aa9737-0f68-47a5-b4e6-0e3e9afbc705",
   "metadata": {},
   "outputs": [
    {
     "name": "stdout",
     "output_type": "stream",
     "text": [
      "💰 Cleaning currency columns...\n"
     ]
    }
   ],
   "source": [
    "print(\"💰 Cleaning currency columns...\")\n",
    "df = clean_currency_column(df, 'Actual gross')\n",
    "df = clean_currency_column(df, 'Actual gross(in 2022 dollars)')\n",
    "df = clean_currency_column(df, 'Average gross')"
   ]
  },
  {
   "cell_type": "code",
   "execution_count": 15,
   "id": "5728a2d2-94a7-4437-95b7-c22b07cd9826",
   "metadata": {},
   "outputs": [
    {
     "name": "stdout",
     "output_type": "stream",
     "text": [
      "🧼 Cleaning text columns...\n"
     ]
    }
   ],
   "source": [
    "print(\"🧼 Cleaning text columns...\")\n",
    "df = clean_text_column(df, 'Tour title')\n",
    "df = clean_text_column(df, 'Artist')\n",
    "df = clean_text_column(df, 'Peak')\n",
    "df = clean_text_column(df, 'All Time Peak')"
   ]
  },
  {
   "cell_type": "code",
   "execution_count": 16,
   "id": "7f8e8609-3174-403c-8714-8966dc2140ff",
   "metadata": {},
   "outputs": [
    {
     "name": "stdout",
     "output_type": "stream",
     "text": [
      "📆 Splitting year ranges...\n"
     ]
    }
   ],
   "source": [
    "print(\"📆 Splitting year ranges...\")\n",
    "df = split_year_range(df)"
   ]
  },
  {
   "cell_type": "code",
   "execution_count": 17,
   "id": "ae89634c-60de-4f26-bd02-37afae2db4bd",
   "metadata": {},
   "outputs": [
    {
     "name": "stdout",
     "output_type": "stream",
     "text": [
      "📈 Filling missing peaks...\n"
     ]
    }
   ],
   "source": [
    "print(\"📈 Filling missing peaks...\")\n",
    "df = fill_missing_peaks(df, 'Peak')\n",
    "df = fill_missing_peaks(df, 'All Time Peak')"
   ]
  },
  {
   "cell_type": "code",
   "execution_count": 18,
   "id": "f1ffc16c-29b0-4533-acd6-dd91e29d505f",
   "metadata": {},
   "outputs": [],
   "source": [
    "\n",
    "# ---------------------------------------\n",
    "# Drop unnecessary column\n",
    "# ---------------------------------------\n",
    "if 'Ref.' in df.columns:\n",
    "    df.drop(columns=['Ref.'], inplace=True)"
   ]
  },
  {
   "cell_type": "code",
   "execution_count": null,
   "id": "7dcf118d-7fbb-4b6c-8dec-e69ac77eac6d",
   "metadata": {},
   "outputs": [],
   "source": []
  },
  {
   "cell_type": "code",
   "execution_count": 19,
   "id": "52f7f7dd-3008-45ec-86a9-48924a78e68d",
   "metadata": {},
   "outputs": [],
   "source": [
    "# =====================================================\n",
    "# 6. Export Cleaned Dataset\n",
    "# =====================================================\n",
    "if not os.path.exists('cleaned'):\n",
    "    os.makedirs('cleaned')"
   ]
  },
  {
   "cell_type": "code",
   "execution_count": 20,
   "id": "99d46719-fc68-4228-ba34-02638fb4a840",
   "metadata": {},
   "outputs": [
    {
     "name": "stdout",
     "output_type": "stream",
     "text": [
      "✅ Cleaned dataset saved to cleaned/cleaned_tours.csv\n"
     ]
    }
   ],
   "source": [
    "df.to_csv(\"cleaned/cleaned_tours.csv\", index=False)\n",
    "print(\"✅ Cleaned dataset saved to cleaned/cleaned_tours.csv\")"
   ]
  },
  {
   "cell_type": "code",
   "execution_count": null,
   "id": "0362d7d4-0e17-428f-8ba8-4ec25b4eb227",
   "metadata": {},
   "outputs": [],
   "source": []
  }
 ],
 "metadata": {
  "kernelspec": {
   "display_name": "Python 3 (ipykernel)",
   "language": "python",
   "name": "python3"
  },
  "language_info": {
   "codemirror_mode": {
    "name": "ipython",
    "version": 3
   },
   "file_extension": ".py",
   "mimetype": "text/x-python",
   "name": "python",
   "nbconvert_exporter": "python",
   "pygments_lexer": "ipython3",
   "version": "3.12.3"
  }
 },
 "nbformat": 4,
 "nbformat_minor": 5
}
