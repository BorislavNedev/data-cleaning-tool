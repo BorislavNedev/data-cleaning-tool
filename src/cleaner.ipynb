{
 "cells": [
  {
   "cell_type": "code",
   "execution_count": 1,
   "id": "11965d11-f715-49cb-8460-4ff5749cdd01",
   "metadata": {},
   "outputs": [],
   "source": [
    "import pandas as pd\n",
    "import re"
   ]
  },
  {
   "cell_type": "code",
   "execution_count": 2,
   "id": "554fa1b0-fee3-4e27-b24d-d1b59f9ee7af",
   "metadata": {},
   "outputs": [
    {
     "name": "stderr",
     "output_type": "stream",
     "text": [
      "<>:8: SyntaxWarning: invalid escape sequence '\\$'\n",
      "<>:8: SyntaxWarning: invalid escape sequence '\\$'\n",
      "C:\\Temp\\ipykernel_6532\\371747727.py:8: SyntaxWarning: invalid escape sequence '\\$'\n",
      "  .replace('[\\$,]', '', regex=True)\n"
     ]
    }
   ],
   "source": [
    "# ---------------------------------------\n",
    "# 1. Clean currency columns\n",
    "# ---------------------------------------\n",
    "def clean_currency_column(df, column_name):\n",
    "    df[column_name] = (\n",
    "        df[column_name]\n",
    "        .astype(str)\n",
    "        .replace('[\\$,]', '', regex=True)\n",
    "        .replace('', '0')\n",
    "        .astype(float)\n",
    "    )\n",
    "    return df"
   ]
  },
  {
   "cell_type": "code",
   "execution_count": 3,
   "id": "0738612b-6136-4001-93b9-f3b888dee6ba",
   "metadata": {},
   "outputs": [],
   "source": [
    "# ---------------------------------------\n",
    "# 2. Remove footnotes and special symbols\n",
    "# ---------------------------------------\n",
    "def clean_text_column(df, column_name):\n",
    "    df[column_name] = (\n",
    "        df[column_name]\n",
    "        .astype(str)\n",
    "        .apply(lambda x: re.sub(r'\\[.*?\\]|†|‡', '', x).strip())\n",
    "    )\n",
    "    return df"
   ]
  },
  {
   "cell_type": "code",
   "execution_count": 4,
   "id": "53ff060f-6a28-457b-9f8b-bbc9cf4b44e5",
   "metadata": {},
   "outputs": [],
   "source": [
    "# ---------------------------------------\n",
    "# 3. Split year ranges into start/end columns\n",
    "# ---------------------------------------\n",
    "def split_year_range(df):\n",
    "    df[['Start Year', 'End Year']] = df['Year(s)'].str.extract(r'(\\d{4})[–-](\\d{4})')\n",
    "    df['Start Year'] = df['Start Year'].astype(float)\n",
    "    df['End Year'] = df['End Year'].astype(float)\n",
    "    return df"
   ]
  },
  {
   "cell_type": "code",
   "execution_count": 5,
   "id": "0a502999-4390-4eb1-bd9b-f19a1cd49d3c",
   "metadata": {},
   "outputs": [],
   "source": [
    "# ---------------------------------------\n",
    "# 4. Fill missing values in ranking columns\n",
    "# ---------------------------------------\n",
    "def fill_missing_peaks(df, column_name, fill_value='Unknown'):\n",
    "    df[column_name] = df[column_name].fillna(fill_value)\n",
    "    return df"
   ]
  },
  {
   "cell_type": "code",
   "execution_count": null,
   "id": "0bfa741c-8114-454c-999e-f30ac7d4fe3c",
   "metadata": {},
   "outputs": [],
   "source": []
  }
 ],
 "metadata": {
  "kernelspec": {
   "display_name": "Python 3 (ipykernel)",
   "language": "python",
   "name": "python3"
  },
  "language_info": {
   "codemirror_mode": {
    "name": "ipython",
    "version": 3
   },
   "file_extension": ".py",
   "mimetype": "text/x-python",
   "name": "python",
   "nbconvert_exporter": "python",
   "pygments_lexer": "ipython3",
   "version": "3.12.3"
  }
 },
 "nbformat": 4,
 "nbformat_minor": 5
}
